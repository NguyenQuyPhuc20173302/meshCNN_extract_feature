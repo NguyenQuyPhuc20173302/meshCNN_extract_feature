{
 "metadata": {
  "language_info": {
   "codemirror_mode": {
    "name": "ipython",
    "version": 3
   },
   "file_extension": ".py",
   "mimetype": "text/x-python",
   "name": "python",
   "nbconvert_exporter": "python",
   "pygments_lexer": "ipython3",
   "version": "3.7.9"
  },
  "orig_nbformat": 4,
  "kernelspec": {
   "name": "python3",
   "display_name": "Python 3.7.9 64-bit"
  },
  "interpreter": {
   "hash": "0600588c3b5f4418cbe7b5ebc6825b479f3bc010269d8b60d75058cdd010adfe"
  }
 },
 "nbformat": 4,
 "nbformat_minor": 2,
 "cells": [
  {
   "cell_type": "code",
   "execution_count": 8,
   "metadata": {},
   "outputs": [],
   "source": [
    "import trimesh\n",
    "import numpy as np"
   ]
  },
  {
   "cell_type": "code",
   "execution_count": 13,
   "metadata": {},
   "outputs": [
    {
     "output_type": "stream",
     "name": "stdout",
     "text": [
      "../dataset/clean_data/test/cube/1.stl\n(750, 2)\n../dataset/clean_data/test/cube/2.stl\n(750, 2)\n../dataset/clean_data/test/cube/3.stl\n(750, 2)\n../dataset/clean_data/test/cube/4.stl\n(750, 2)\n../dataset/clean_data/test/cube/5.stl\n(750, 2)\n../dataset/clean_data/test/cube/6.stl\n(750, 2)\n../dataset/clean_data/test/cube/7.stl\n(750, 2)\n../dataset/clean_data/test/cube/8.stl\n(750, 2)\n../dataset/clean_data/test/sphere/1.stl\n(750, 2)\n../dataset/clean_data/test/sphere/2.stl\n(750, 2)\n../dataset/clean_data/test/sphere/3.stl\n(750, 2)\n../dataset/clean_data/test/sphere/4.stl\n(750, 2)\n../dataset/clean_data/test/sphere/5.stl\n(750, 2)\n../dataset/clean_data/test/sphere/6.stl\n(750, 2)\n../dataset/clean_data/test/sphere/7.stl\n(750, 2)\n../dataset/clean_data/test/sphere/8.stl\n(750, 2)\n../dataset/clean_data/train/cube/1.stl\n(750, 2)\n../dataset/clean_data/train/cube/2.stl\n(750, 2)\n../dataset/clean_data/train/cube/3.stl\n(750, 2)\n../dataset/clean_data/train/cube/4.stl\n(750, 2)\n../dataset/clean_data/train/cube/5.stl\n(750, 2)\n../dataset/clean_data/train/cube/6.stl\n(750, 2)\n../dataset/clean_data/train/cube/7.stl\n(750, 2)\n../dataset/clean_data/train/cube/8.stl\n(750, 2)\n../dataset/clean_data/train/cube/9.stl\n(750, 2)\n../dataset/clean_data/train/cube/10.stl\n(750, 2)\n../dataset/clean_data/train/cube/11.stl\n(750, 2)\n../dataset/clean_data/train/cube/12.stl\n(750, 2)\n../dataset/clean_data/train/cube/13.stl\n(750, 2)\n../dataset/clean_data/train/cube/14.stl\n(750, 2)\n../dataset/clean_data/train/cube/15.stl\n(750, 2)\n../dataset/clean_data/train/cube/16.stl\n(750, 2)\n../dataset/clean_data/train/cube/17.stl\n(750, 2)\n../dataset/clean_data/train/cube/18.stl\n(750, 2)\n../dataset/clean_data/train/cube/19.stl\n(750, 2)\n../dataset/clean_data/train/cube/20.stl\n(750, 2)\n../dataset/clean_data/train/sphere/1.stl\n(750, 2)\n../dataset/clean_data/train/sphere/2.stl\n(750, 2)\n../dataset/clean_data/train/sphere/3.stl\n(750, 2)\n../dataset/clean_data/train/sphere/4.stl\n(750, 2)\n../dataset/clean_data/train/sphere/5.stl\n(750, 2)\n../dataset/clean_data/train/sphere/6.stl\n(750, 2)\n../dataset/clean_data/train/sphere/7.stl\n(750, 2)\n../dataset/clean_data/train/sphere/8.stl\n(750, 2)\n../dataset/clean_data/train/sphere/9.stl\n(750, 2)\n../dataset/clean_data/train/sphere/10.stl\n(750, 2)\n../dataset/clean_data/train/sphere/11.stl\n(750, 2)\n../dataset/clean_data/train/sphere/12.stl\n(750, 2)\n../dataset/clean_data/train/sphere/13.stl\n(750, 2)\n../dataset/clean_data/train/sphere/14.stl\n(750, 2)\n../dataset/clean_data/train/sphere/15.stl\n(750, 2)\n../dataset/clean_data/train/sphere/16.stl\n(750, 2)\n../dataset/clean_data/train/sphere/17.stl\n(750, 2)\n../dataset/clean_data/train/sphere/18.stl\n(750, 2)\n../dataset/clean_data/train/sphere/19.stl\n(750, 2)\n../dataset/clean_data/train/sphere/20.stl\n(750, 2)\n"
     ]
    }
   ],
   "source": [
    "data_dir = '..\\\\dataset\\\\raw_data'\n",
    "for dirname in os.listdir(data_dir):\n",
    "    dir_path = os.path.join(data_dir, dirname)\n",
    "    for subdir_name in os.listdir(dir_path):\n",
    "        subdir_path = os.path.join(dir_path, subdir_name)\n",
    "        i = 0\n",
    "        for filename in os.listdir(subdir_path):\n",
    "            i = i + 1\n",
    "            path = os.path.join(subdir_path, filename)\n",
    "            destination_path = path.split(\"\\\\\")\n",
    "            destination_path[2] = 'clean_data'\n",
    "            destination_path[-1] = str(i) + \".stl\"\n",
    "            destination_path = \"/\".join(destination_path)\n",
    "            print(destination_path)\n",
    "            mesh = trimesh.load_mesh(destination_path, \"stl\")\n",
    "            print(mesh.edges_unique.shape)"
   ]
  },
  {
   "cell_type": "code",
   "execution_count": null,
   "metadata": {},
   "outputs": [],
   "source": [
    "../dataset/clean_data/train/sphere/16.stl"
   ]
  },
  {
   "cell_type": "code",
   "execution_count": 14,
   "metadata": {},
   "outputs": [],
   "source": [
    "edges_features = np.zeros((18, 5)) "
   ]
  },
  {
   "cell_type": "code",
   "execution_count": 15,
   "metadata": {},
   "outputs": [
    {
     "output_type": "execute_result",
     "data": {
      "text/plain": [
       "array([[0., 0., 0., 0., 0.],\n",
       "       [0., 0., 0., 0., 0.],\n",
       "       [0., 0., 0., 0., 0.],\n",
       "       [0., 0., 0., 0., 0.],\n",
       "       [0., 0., 0., 0., 0.],\n",
       "       [0., 0., 0., 0., 0.],\n",
       "       [0., 0., 0., 0., 0.],\n",
       "       [0., 0., 0., 0., 0.],\n",
       "       [0., 0., 0., 0., 0.],\n",
       "       [0., 0., 0., 0., 0.],\n",
       "       [0., 0., 0., 0., 0.],\n",
       "       [0., 0., 0., 0., 0.],\n",
       "       [0., 0., 0., 0., 0.],\n",
       "       [0., 0., 0., 0., 0.],\n",
       "       [0., 0., 0., 0., 0.],\n",
       "       [0., 0., 0., 0., 0.],\n",
       "       [0., 0., 0., 0., 0.],\n",
       "       [0., 0., 0., 0., 0.]])"
      ]
     },
     "metadata": {},
     "execution_count": 15
    }
   ],
   "source": [
    "edges_features"
   ]
  },
  {
   "cell_type": "code",
   "execution_count": 67,
   "metadata": {},
   "outputs": [],
   "source": [
    "mesh = trimesh.load_mesh('./t.stl', \"stl\")\n",
    "edges =  mesh.edges_unique\n",
    "faces = mesh.faces\n",
    "vertices = mesh.vertices\n",
    "face_angles = mesh.face_angles\n",
    "face_adjacency = mesh.face_adjacency"
   ]
  },
  {
   "cell_type": "code",
   "execution_count": 27,
   "metadata": {},
   "outputs": [
    {
     "output_type": "execute_result",
     "data": {
      "text/plain": [
       "array([0.78539812])"
      ]
     },
     "metadata": {},
     "execution_count": 27
    }
   ],
   "source": [
    "face_angles[4][faces[4] == 0]"
   ]
  },
  {
   "cell_type": "code",
   "execution_count": 30,
   "metadata": {},
   "outputs": [
    {
     "output_type": "stream",
     "name": "stdout",
     "text": [
      "0\n3\n"
     ]
    }
   ],
   "source": [
    "for i in face_adjacency_edges[2]:\n",
    "    print(i)"
   ]
  },
  {
   "cell_type": "code",
   "execution_count": 39,
   "metadata": {},
   "outputs": [],
   "source": [
    "new_list = list(set([0, 3, 4]).difference([0, 4]))[0]"
   ]
  },
  {
   "cell_type": "code",
   "execution_count": 40,
   "metadata": {},
   "outputs": [
    {
     "output_type": "execute_result",
     "data": {
      "text/plain": [
       "3"
      ]
     },
     "metadata": {},
     "execution_count": 40
    }
   ],
   "source": [
    "new_list"
   ]
  },
  {
   "cell_type": "code",
   "execution_count": 57,
   "metadata": {},
   "outputs": [],
   "source": [
    "def get_vertex(edge, face):\n",
    "    for i in range(len(face)):\n",
    "        if (face[i] not in edge):\n",
    "            return i "
   ]
  },
  {
   "cell_type": "code",
   "execution_count": 62,
   "metadata": {},
   "outputs": [],
   "source": [
    "angle_features = []\n",
    "for i in range(len(edges)):\n",
    "    angle = []\n",
    "    for face_index in face_adjacency[i]:\n",
    "        vertex_index = get_vertex(edges[i], faces[face_index])\n",
    "        angle.append(face_angles[face_index][vertex_index])\n",
    "    angle_features.append(angle)    "
   ]
  },
  {
   "cell_type": "code",
   "execution_count": 64,
   "metadata": {},
   "outputs": [
    {
     "output_type": "execute_result",
     "data": {
      "text/plain": [
       "TrackedArray([[6, 7, 5],\n",
       "              [6, 5, 4],\n",
       "              [4, 5, 1],\n",
       "              [4, 1, 0],\n",
       "              [0, 1, 3],\n",
       "              [0, 3, 2],\n",
       "              [2, 3, 7],\n",
       "              [2, 7, 6],\n",
       "              [4, 0, 2],\n",
       "              [4, 2, 6],\n",
       "              [1, 5, 7],\n",
       "              [1, 7, 3]], dtype=int64)"
      ]
     },
     "metadata": {},
     "execution_count": 64
    }
   ],
   "source": [
    "faces"
   ]
  },
  {
   "cell_type": "code",
   "execution_count": 84,
   "metadata": {},
   "outputs": [
    {
     "output_type": "execute_result",
     "data": {
      "text/plain": [
       "TrackedArray([2.00000006, 1.99999988, 2.82842708, 1.99999988, 2.00000006,\n",
       "              2.        , 2.82842717, 2.82842704, 2.        , 2.00000006,\n",
       "              2.        , 1.99999988, 2.82842708, 2.82842704, 2.82842717,\n",
       "              2.        , 1.99999988, 2.00000006])"
      ]
     },
     "metadata": {},
     "execution_count": 84
    }
   ],
   "source": [
    "mesh.edges_unique_length"
   ]
  },
  {
   "cell_type": "code",
   "execution_count": 102,
   "metadata": {},
   "outputs": [],
   "source": [
    "def d(p, q, r):\n",
    "    d = (q - p) / np.linalg.norm(q - p)\n",
    "    v = r - p\n",
    "    t = np.dot(v, d)\n",
    "    s = p +  t * d\n",
    "    return np.linalg.norm(s-r)"
   ]
  },
  {
   "cell_type": "code",
   "execution_count": 103,
   "metadata": {},
   "outputs": [
    {
     "output_type": "execute_result",
     "data": {
      "text/plain": [
       "TrackedArray([[ 1.26135695,  2.33049965, -0.4006241 ],\n",
       "              [ 1.26135695,  2.33049965,  1.59937596],\n",
       "              [ 1.26135695,  0.33049977, -0.4006241 ],\n",
       "              [ 1.26135695,  0.33049977,  1.59937596],\n",
       "              [-0.73864305,  2.33049965, -0.4006241 ],\n",
       "              [-0.73864305,  2.33049965,  1.59937596],\n",
       "              [-0.73864305,  0.33049977, -0.4006241 ],\n",
       "              [-0.73864305,  0.33049977,  1.59937596]])"
      ]
     },
     "metadata": {},
     "execution_count": 103
    }
   ],
   "source": [
    "vertices"
   ]
  },
  {
   "cell_type": "code",
   "execution_count": 104,
   "metadata": {},
   "outputs": [
    {
     "output_type": "stream",
     "name": "stdout",
     "text": [
      "[-0.73864305  2.33049965 -0.4006241 ]\n[ 1.26135695  2.33049965 -0.4006241 ]\n[1.26135695 2.33049965 1.59937596]\n[1.26135695 0.33049977 1.59937596]\n[ 1.26135695  2.33049965 -0.4006241 ]\n[1.26135695 2.33049965 1.59937596]\n"
     ]
    }
   ],
   "source": [
    "two_ratios_features = []\n",
    "for i in range(len(edges)):\n",
    "    two_ratio = []\n",
    "    for face_index in face_adjacency[i]:\n",
    "        vertex_index = get_vertex(edges[i], faces[face_index])\n",
    "        r = vertices[faces[face_index][vertex_index]]\n",
    "        p = vertices[edges[i][0]]\n",
    "        q = vertices[edges[i][1]]\n",
    "        if (i == 0):\n",
    "            print(r)\n",
    "            print(p)\n",
    "            print(q)\n",
    "        edge_length = np.linalg.norm(p-q)\n",
    "        distance = d(p, q, r)\n",
    "        ratio = distance/ edge_length\n",
    "        two_ratio.append(ratio)\n",
    "    two_ratios_features.append(two_ratio) "
   ]
  },
  {
   "cell_type": "code",
   "execution_count": 105,
   "metadata": {},
   "outputs": [
    {
     "output_type": "execute_result",
     "data": {
      "text/plain": [
       "array([0, 1], dtype=int64)"
      ]
     },
     "metadata": {},
     "execution_count": 105
    }
   ],
   "source": [
    "edges[0]"
   ]
  },
  {
   "cell_type": "code",
   "execution_count": 106,
   "metadata": {},
   "outputs": [
    {
     "output_type": "execute_result",
     "data": {
      "text/plain": [
       "[[0.9999999701976785, 0.9999999105930355],\n",
       " [1.0000000894069725, 1.0000000596046483],\n",
       " [0.49999999999999806, 0.49999999999999806],\n",
       " [1.0000000894069725, 1.0000000596046483],\n",
       " [0.9999999105930355, 0.9999999701976785],\n",
       " [1.0000000298023224, 0.9999999403953552],\n",
       " [0.4999999999999998, 0.4999999999999998],\n",
       " [0.4999999999999991, 0.49999999999999906],\n",
       " [1.0000000298023224, 0.9999999403953552],\n",
       " [0.9999999105930355, 0.9999999701976785],\n",
       " [1.0000000298023224, 0.9999999403953552],\n",
       " [1.0000000894069725, 1.0000000596046483],\n",
       " [0.49999999999999806, 0.49999999999999806],\n",
       " [0.49999999999999906, 0.4999999999999991],\n",
       " [0.4999999999999998, 0.4999999999999998],\n",
       " [1.0000000298023224, 0.9999999403953552],\n",
       " [1.0000000894069725, 1.0000000596046483],\n",
       " [0.9999999105930355, 0.9999999701976785]]"
      ]
     },
     "metadata": {},
     "execution_count": 106
    }
   ],
   "source": [
    "two_ratios_features"
   ]
  },
  {
   "cell_type": "code",
   "execution_count": 24,
   "metadata": {},
   "outputs": [
    {
     "output_type": "stream",
     "name": "stdout",
     "text": [
      "[ 0  0  0  1  1  1  2  2  2  3  3  3  4  4  4  5  5  5  6  6  6  7  7  7\n  8  8  8  9  9  9 10 10 10 11 11 11]\n"
     ]
    }
   ],
   "source": [
    "print(mesh.edges_face)"
   ]
  },
  {
   "cell_type": "code",
   "execution_count": 2,
   "metadata": {},
   "outputs": [],
   "source": [
    "from data_preprocess.data_reader import tfrecord_to_dataset, dataset_to_tfrecord"
   ]
  },
  {
   "cell_type": "code",
   "execution_count": 3,
   "metadata": {},
   "outputs": [],
   "source": [
    "features, labels = tfrecord_to_dataset('./dataset/encoded_data/train.tfrecord')"
   ]
  },
  {
   "cell_type": "code",
   "execution_count": 4,
   "metadata": {},
   "outputs": [],
   "source": [
    "for key, value in features.items():\n",
    "    print(\"Key: {}, Shape: {}\".format(key, value.sha))"
   ]
  },
  {
   "cell_type": "code",
   "execution_count": 5,
   "metadata": {},
   "outputs": [
    {
     "output_type": "execute_result",
     "data": {
      "text/plain": [
       "[(40,),\n",
       " (40,),\n",
       " (40, 252, 3),\n",
       " (40, 500, 3),\n",
       " (40, 750, 2),\n",
       " (40, 750),\n",
       " (40, 500, 3),\n",
       " (40, 750, 2)]"
      ]
     },
     "metadata": {},
     "execution_count": 5
    }
   ],
   "source": [
    "s"
   ]
  },
  {
   "cell_type": "code",
   "execution_count": 125,
   "metadata": {},
   "outputs": [
    {
     "output_type": "execute_result",
     "data": {
      "text/plain": [
       "(40, 252, 3)"
      ]
     },
     "metadata": {},
     "execution_count": 125
    }
   ],
   "source": [
    "features['vertices']"
   ]
  },
  {
   "cell_type": "code",
   "execution_count": 6,
   "metadata": {},
   "outputs": [],
   "source": [
    "import numpy as np"
   ]
  },
  {
   "cell_type": "code",
   "execution_count": 14,
   "metadata": {},
   "outputs": [],
   "source": [
    "x = np.array([[[0, 1, 8], [2, 3, 9]], [[4, 5, 10], [6, 7, 11]], [[4, 5, 10], [9, 8, 10]]])"
   ]
  },
  {
   "cell_type": "code",
   "execution_count": 16,
   "metadata": {},
   "outputs": [
    {
     "output_type": "execute_result",
     "data": {
      "text/plain": [
       "array([[[ 0,  1,  8],\n",
       "        [ 2,  3,  9]],\n",
       "\n",
       "       [[ 4,  5, 10],\n",
       "        [ 6,  7, 11]],\n",
       "\n",
       "       [[ 4,  5, 10],\n",
       "        [ 9,  8, 10]]])"
      ]
     },
     "metadata": {},
     "execution_count": 16
    }
   ],
   "source": [
    "x"
   ]
  },
  {
   "cell_type": "code",
   "execution_count": null,
   "metadata": {},
   "outputs": [],
   "source": []
  },
  {
   "cell_type": "code",
   "execution_count": 18,
   "metadata": {},
   "outputs": [
    {
     "output_type": "execute_result",
     "data": {
      "text/plain": [
       "array([[ 1. ,  2. ,  8.5],\n",
       "       [ 5. ,  6. , 10.5],\n",
       "       [ 6.5,  6.5, 10. ]])"
      ]
     },
     "metadata": {},
     "execution_count": 18
    }
   ],
   "source": [
    "m = np.mean(x, 1)\n",
    "m"
   ]
  },
  {
   "cell_type": "code",
   "execution_count": 25,
   "metadata": {},
   "outputs": [],
   "source": [
    "y = np.reshape(m, (-1, 1, x.shape[2]))"
   ]
  },
  {
   "cell_type": "code",
   "execution_count": 26,
   "metadata": {},
   "outputs": [
    {
     "output_type": "execute_result",
     "data": {
      "text/plain": [
       "array([[[ 1. ,  2. ,  8.5]],\n",
       "\n",
       "       [[ 5. ,  6. , 10.5]],\n",
       "\n",
       "       [[ 6.5,  6.5, 10. ]]])"
      ]
     },
     "metadata": {},
     "execution_count": 26
    }
   ],
   "source": [
    "y"
   ]
  },
  {
   "cell_type": "code",
   "execution_count": 39,
   "metadata": {},
   "outputs": [
    {
     "output_type": "execute_result",
     "data": {
      "text/plain": [
       "array([[[-1. , -1. , -0.5],\n",
       "        [ 1. ,  1. ,  0.5]],\n",
       "\n",
       "       [[-1. , -1. , -0.5],\n",
       "        [ 1. ,  1. ,  0.5]],\n",
       "\n",
       "       [[-2.5, -3. ,  0. ],\n",
       "        [ 2.5,  1.5,  0. ]]])"
      ]
     },
     "metadata": {},
     "execution_count": 39
    }
   ],
   "source": [
    "new = x - y\n",
    "new[2][0][1] = -3\n",
    "new"
   ]
  },
  {
   "cell_type": "code",
   "execution_count": 40,
   "metadata": {},
   "outputs": [
    {
     "output_type": "execute_result",
     "data": {
      "text/plain": [
       "array([[[-1. , -1. , -1. ],\n",
       "        [ 1. ,  1. ,  1. ]],\n",
       "\n",
       "       [[-1. , -1. , -1. ],\n",
       "        [ 1. ,  1. ,  1. ]],\n",
       "\n",
       "       [[-1. , -1. ,  0. ],\n",
       "        [ 1. ,  0.5,  0. ]]])"
      ]
     },
     "metadata": {},
     "execution_count": 40
    }
   ],
   "source": [
    "max = np.max(abs(new), 1)\n",
    "max = np.reshape(max, (-1, 1, new.shape[2]))\n",
    "c = np.divide(new, max, out=np.zeros_like(new), where=max!=0)\n",
    "c"
   ]
  },
  {
   "cell_type": "code",
   "execution_count": 75,
   "metadata": {},
   "outputs": [
    {
     "output_type": "execute_result",
     "data": {
      "text/plain": [
       "array([[6.8672001e-02, 7.6192588e-01, 7.0866615e-01],\n",
       "       [1.5671299e-01, 7.6258004e-02, 5.2401237e-04],\n",
       "       [9.4284803e-01, 8.5998398e-01, 2.4471402e-03],\n",
       "       [3.5383299e-01, 1.0053520e+00, 4.8487164e-02],\n",
       "       [7.5063300e-01, 2.0155892e-02, 6.5847200e-01]], dtype=float32)"
      ]
     },
     "metadata": {},
     "execution_count": 75
    }
   ],
   "source": [
    "x = features['vertices'][0]\n",
    "x[:5]"
   ]
  },
  {
   "cell_type": "code",
   "execution_count": 104,
   "metadata": {},
   "outputs": [],
   "source": [
    "y = features['face_adjacency'][0]"
   ]
  },
  {
   "cell_type": "code",
   "execution_count": 106,
   "metadata": {},
   "outputs": [],
   "source": [
    "s = [i.shape for i in features['face_adjacency']]"
   ]
  },
  {
   "cell_type": "code",
   "execution_count": 24,
   "metadata": {},
   "outputs": [],
   "source": [
    "from sklearn import preprocessing"
   ]
  },
  {
   "cell_type": "code",
   "execution_count": 76,
   "metadata": {},
   "outputs": [
    {
     "output_type": "execute_result",
     "data": {
      "text/plain": [
       "(3,)"
      ]
     },
     "metadata": {},
     "execution_count": 76
    }
   ],
   "source": [
    "mean = np.mean(features['vertices'][0], 0)\n",
    "max = np.max(features['vertices'][0], 0)\n",
    "max.shape"
   ]
  },
  {
   "cell_type": "code",
   "execution_count": 77,
   "metadata": {},
   "outputs": [],
   "source": [
    "normalized = (x - mean) / max"
   ]
  },
  {
   "cell_type": "code",
   "execution_count": 95,
   "metadata": {},
   "outputs": [],
   "source": [
    "mesh = trimesh.Trimesh(vertices=x,\n",
    "                       faces=y)"
   ]
  },
  {
   "cell_type": "code",
   "execution_count": 84,
   "metadata": {},
   "outputs": [],
   "source": [
    "mesh = trimesh.load_mesh('./dataset/clean_data/train/cube/1.stl')"
   ]
  },
  {
   "cell_type": "code",
   "execution_count": 36,
   "metadata": {},
   "outputs": [],
   "source": [
    "import numpy as np"
   ]
  },
  {
   "cell_type": "code",
   "execution_count": 37,
   "metadata": {},
   "outputs": [],
   "source": [
    "a = np.array([[1, 2], [3, 4]])"
   ]
  },
  {
   "cell_type": "code",
   "execution_count": 46,
   "metadata": {},
   "outputs": [
    {
     "output_type": "execute_result",
     "data": {
      "text/plain": [
       "array([2., 3.])"
      ]
     },
     "metadata": {},
     "execution_count": 46
    }
   ],
   "source": [
    "mean = np.mean(a, 0)\n",
    "mean"
   ]
  },
  {
   "cell_type": "code",
   "execution_count": 47,
   "metadata": {},
   "outputs": [],
   "source": [
    "max = np.max(a, 0)"
   ]
  },
  {
   "cell_type": "code",
   "execution_count": 48,
   "metadata": {},
   "outputs": [
    {
     "output_type": "execute_result",
     "data": {
      "text/plain": [
       "array([3, 4])"
      ]
     },
     "metadata": {},
     "execution_count": 48
    }
   ],
   "source": [
    "max"
   ]
  },
  {
   "cell_type": "code",
   "execution_count": 50,
   "metadata": {},
   "outputs": [
    {
     "output_type": "execute_result",
     "data": {
      "text/plain": [
       "array([[-0.33333333, -0.25      ],\n",
       "       [ 0.33333333,  0.25      ]])"
      ]
     },
     "metadata": {},
     "execution_count": 50
    }
   ],
   "source": [
    "(a - mean) / max"
   ]
  },
  {
   "cell_type": "code",
   "execution_count": 42,
   "metadata": {},
   "outputs": [
    {
     "output_type": "execute_result",
     "data": {
      "text/plain": [
       "(40, 750, 2)"
      ]
     },
     "metadata": {},
     "execution_count": 42
    }
   ],
   "source": [
    "features['face_adjacency'].shape"
   ]
  },
  {
   "cell_type": "code",
   "execution_count": null,
   "metadata": {},
   "outputs": [],
   "source": []
  }
 ]
}